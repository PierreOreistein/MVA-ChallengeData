{
 "cells": [
  {
   "cell_type": "markdown",
   "metadata": {
    "ExecuteTime": {
     "end_time": "2019-02-27T08:26:41.356127Z",
     "start_time": "2019-02-27T08:26:41.352619Z"
    }
   },
   "source": [
    "# 0 - Information"
   ]
  },
  {
   "cell_type": "code",
   "execution_count": null,
   "metadata": {
    "ExecuteTime": {
     "end_time": "2019-04-02T10:02:32.255302Z",
     "start_time": "2019-04-02T10:02:32.253182Z"
    }
   },
   "outputs": [],
   "source": [
    "# Re tester l'upload de l'entraiment du réseau de neurones avec les paramètres sans dropout\n",
    "# Test un benchmark avec le carré de la distance comme diviseur."
   ]
  },
  {
   "cell_type": "markdown",
   "metadata": {},
   "source": [
    "# 1 - Packages"
   ]
  },
  {
   "cell_type": "code",
   "execution_count": 1,
   "metadata": {
    "ExecuteTime": {
     "end_time": "2019-04-03T11:10:10.221110Z",
     "start_time": "2019-04-03T11:10:08.288957Z"
    }
   },
   "outputs": [
    {
     "name": "stderr",
     "output_type": "stream",
     "text": [
      "Using TensorFlow backend.\n"
     ]
    }
   ],
   "source": [
    "# Math packages\n",
    "import numpy as np\n",
    "\n",
    "# Dataset packages\n",
    "import pandas as pd\n",
    "import copy\n",
    "\n",
    "# Graphic package\n",
    "import matplotlib.pyplot as plt\n",
    "import seaborn as sns\n",
    "sns.set()\n",
    "\n",
    "# Os packages\n",
    "import os, sys\n",
    "\n",
    "# Time packages\n",
    "import time\n",
    "\n",
    "# Sklearn packages\n",
    "import sklearn.svm as svm\n",
    "import sklearn.linear_model as sklin\n",
    "import sklearn.model_selection as mod_selec\n",
    "import sklearn.metrics as metrics\n",
    "\n",
    "# Keras\n",
    "import keras\n",
    "from keras.models import Model, Sequential\n",
    "from keras.layers import Dense, Activation, Dropout\n",
    "from keras.layers import Flatten, BatchNormalization\n",
    "from keras.optimizers import SGD\n",
    "from keras.utils import np_utils\n",
    "\n",
    "# Lightlgb\n",
    "import lightgbm as lgb\n",
    "\n",
    "# Progress bar\n",
    "import tqdm as tqdm"
   ]
  },
  {
   "cell_type": "markdown",
   "metadata": {},
   "source": [
    "# 2 - Loading of the Data"
   ]
  },
  {
   "cell_type": "markdown",
   "metadata": {},
   "source": [
    "## 2.1 - Extrat all the data"
   ]
  },
  {
   "cell_type": "code",
   "execution_count": 2,
   "metadata": {
    "ExecuteTime": {
     "end_time": "2019-04-03T11:10:13.729719Z",
     "start_time": "2019-04-03T11:10:10.453498Z"
    }
   },
   "outputs": [
    {
     "name": "stdout",
     "output_type": "stream",
     "text": [
      "Columns names:  Index(['ID', 'station_id', 'hdres_100', 'hdres_500', 'ldres_100', 'ldres_500',\n",
      "       'industry_100', 'industry_500', 'urbgreen_100', 'urbgreen_500',\n",
      "       'roads_length_25', 'roads_length_100', 'roads_length_500',\n",
      "       'major_roads_length_25', 'major_roads_length_100',\n",
      "       'major_roads_length_500', 'distance_0', 'distance_1', 'distance_2',\n",
      "       'distance_3', 'distance_4', 'distance_5', 'distance_6', 'distance_7',\n",
      "       'distance_8', 'distance_9', 'value_0', 'value_1', 'value_2', 'value_3',\n",
      "       'value_4', 'value_5', 'value_6', 'value_7', 'value_8', 'value_9'],\n",
      "      dtype='object')\n",
      "Shape:  (695255, 36)\n"
     ]
    },
    {
     "data": {
      "text/html": [
       "<div>\n",
       "<style scoped>\n",
       "    .dataframe tbody tr th:only-of-type {\n",
       "        vertical-align: middle;\n",
       "    }\n",
       "\n",
       "    .dataframe tbody tr th {\n",
       "        vertical-align: top;\n",
       "    }\n",
       "\n",
       "    .dataframe thead th {\n",
       "        text-align: right;\n",
       "    }\n",
       "</style>\n",
       "<table border=\"1\" class=\"dataframe\">\n",
       "  <thead>\n",
       "    <tr style=\"text-align: right;\">\n",
       "      <th></th>\n",
       "      <th>ID</th>\n",
       "      <th>station_id</th>\n",
       "      <th>hdres_100</th>\n",
       "      <th>hdres_500</th>\n",
       "      <th>ldres_100</th>\n",
       "      <th>ldres_500</th>\n",
       "      <th>industry_100</th>\n",
       "      <th>industry_500</th>\n",
       "      <th>urbgreen_100</th>\n",
       "      <th>urbgreen_500</th>\n",
       "      <th>...</th>\n",
       "      <th>value_0</th>\n",
       "      <th>value_1</th>\n",
       "      <th>value_2</th>\n",
       "      <th>value_3</th>\n",
       "      <th>value_4</th>\n",
       "      <th>value_5</th>\n",
       "      <th>value_6</th>\n",
       "      <th>value_7</th>\n",
       "      <th>value_8</th>\n",
       "      <th>value_9</th>\n",
       "    </tr>\n",
       "  </thead>\n",
       "  <tbody>\n",
       "    <tr>\n",
       "      <th>0</th>\n",
       "      <td>0</td>\n",
       "      <td>105</td>\n",
       "      <td>0.0</td>\n",
       "      <td>0.0</td>\n",
       "      <td>1.0</td>\n",
       "      <td>0.929</td>\n",
       "      <td>0.0</td>\n",
       "      <td>0.033</td>\n",
       "      <td>0.0</td>\n",
       "      <td>0.022</td>\n",
       "      <td>...</td>\n",
       "      <td>53.0</td>\n",
       "      <td>46.0</td>\n",
       "      <td>52.0</td>\n",
       "      <td>44.0</td>\n",
       "      <td>40.0</td>\n",
       "      <td>38.0</td>\n",
       "      <td>54.0</td>\n",
       "      <td>36.0</td>\n",
       "      <td>39.0</td>\n",
       "      <td>42.0</td>\n",
       "    </tr>\n",
       "    <tr>\n",
       "      <th>1</th>\n",
       "      <td>1</td>\n",
       "      <td>105</td>\n",
       "      <td>0.0</td>\n",
       "      <td>0.0</td>\n",
       "      <td>1.0</td>\n",
       "      <td>0.929</td>\n",
       "      <td>0.0</td>\n",
       "      <td>0.033</td>\n",
       "      <td>0.0</td>\n",
       "      <td>0.022</td>\n",
       "      <td>...</td>\n",
       "      <td>55.0</td>\n",
       "      <td>47.0</td>\n",
       "      <td>54.0</td>\n",
       "      <td>45.0</td>\n",
       "      <td>41.0</td>\n",
       "      <td>39.0</td>\n",
       "      <td>55.0</td>\n",
       "      <td>37.0</td>\n",
       "      <td>40.0</td>\n",
       "      <td>43.0</td>\n",
       "    </tr>\n",
       "    <tr>\n",
       "      <th>2</th>\n",
       "      <td>2</td>\n",
       "      <td>105</td>\n",
       "      <td>0.0</td>\n",
       "      <td>0.0</td>\n",
       "      <td>1.0</td>\n",
       "      <td>0.929</td>\n",
       "      <td>0.0</td>\n",
       "      <td>0.033</td>\n",
       "      <td>0.0</td>\n",
       "      <td>0.022</td>\n",
       "      <td>...</td>\n",
       "      <td>84.5</td>\n",
       "      <td>54.0</td>\n",
       "      <td>78.0</td>\n",
       "      <td>49.0</td>\n",
       "      <td>47.0</td>\n",
       "      <td>42.0</td>\n",
       "      <td>63.0</td>\n",
       "      <td>42.0</td>\n",
       "      <td>48.0</td>\n",
       "      <td>49.0</td>\n",
       "    </tr>\n",
       "    <tr>\n",
       "      <th>3</th>\n",
       "      <td>3</td>\n",
       "      <td>105</td>\n",
       "      <td>0.0</td>\n",
       "      <td>0.0</td>\n",
       "      <td>1.0</td>\n",
       "      <td>0.929</td>\n",
       "      <td>0.0</td>\n",
       "      <td>0.033</td>\n",
       "      <td>0.0</td>\n",
       "      <td>0.022</td>\n",
       "      <td>...</td>\n",
       "      <td>97.0</td>\n",
       "      <td>59.0</td>\n",
       "      <td>84.0</td>\n",
       "      <td>55.0</td>\n",
       "      <td>58.0</td>\n",
       "      <td>48.0</td>\n",
       "      <td>72.0</td>\n",
       "      <td>51.0</td>\n",
       "      <td>57.0</td>\n",
       "      <td>59.0</td>\n",
       "    </tr>\n",
       "    <tr>\n",
       "      <th>4</th>\n",
       "      <td>4</td>\n",
       "      <td>105</td>\n",
       "      <td>0.0</td>\n",
       "      <td>0.0</td>\n",
       "      <td>1.0</td>\n",
       "      <td>0.929</td>\n",
       "      <td>0.0</td>\n",
       "      <td>0.033</td>\n",
       "      <td>0.0</td>\n",
       "      <td>0.022</td>\n",
       "      <td>...</td>\n",
       "      <td>99.0</td>\n",
       "      <td>67.0</td>\n",
       "      <td>95.0</td>\n",
       "      <td>63.0</td>\n",
       "      <td>67.0</td>\n",
       "      <td>48.0</td>\n",
       "      <td>82.0</td>\n",
       "      <td>59.0</td>\n",
       "      <td>64.0</td>\n",
       "      <td>65.0</td>\n",
       "    </tr>\n",
       "  </tbody>\n",
       "</table>\n",
       "<p>5 rows × 36 columns</p>\n",
       "</div>"
      ],
      "text/plain": [
       "   ID  station_id  hdres_100  hdres_500  ldres_100  ldres_500  industry_100  \\\n",
       "0   0         105        0.0        0.0        1.0      0.929           0.0   \n",
       "1   1         105        0.0        0.0        1.0      0.929           0.0   \n",
       "2   2         105        0.0        0.0        1.0      0.929           0.0   \n",
       "3   3         105        0.0        0.0        1.0      0.929           0.0   \n",
       "4   4         105        0.0        0.0        1.0      0.929           0.0   \n",
       "\n",
       "   industry_500  urbgreen_100  urbgreen_500  ...  value_0  value_1  value_2  \\\n",
       "0         0.033           0.0         0.022  ...     53.0     46.0     52.0   \n",
       "1         0.033           0.0         0.022  ...     55.0     47.0     54.0   \n",
       "2         0.033           0.0         0.022  ...     84.5     54.0     78.0   \n",
       "3         0.033           0.0         0.022  ...     97.0     59.0     84.0   \n",
       "4         0.033           0.0         0.022  ...     99.0     67.0     95.0   \n",
       "\n",
       "   value_3  value_4  value_5  value_6  value_7  value_8  value_9  \n",
       "0     44.0     40.0     38.0     54.0     36.0     39.0     42.0  \n",
       "1     45.0     41.0     39.0     55.0     37.0     40.0     43.0  \n",
       "2     49.0     47.0     42.0     63.0     42.0     48.0     49.0  \n",
       "3     55.0     58.0     48.0     72.0     51.0     57.0     59.0  \n",
       "4     63.0     67.0     48.0     82.0     59.0     64.0     65.0  \n",
       "\n",
       "[5 rows x 36 columns]"
      ]
     },
     "execution_count": 2,
     "metadata": {},
     "output_type": "execute_result"
    }
   ],
   "source": [
    "# Loading of the data\n",
    "X_train_df = pd.read_csv(\"Data/X_train.csv\")\n",
    "Y_train_df = pd.read_csv(\"Data/Y_train.csv\")\n",
    "X_test_df = pd.read_csv(\"Data/X_test.csv\")\n",
    "\n",
    "# Display\n",
    "print(\"Columns names: \", X_train_df.columns)\n",
    "print(\"Shape: \", X_train_df.shape)\n",
    "X_train_df.head()"
   ]
  },
  {
   "cell_type": "markdown",
   "metadata": {},
   "source": [
    "## 2.2 - Replace Nan value by interpolation"
   ]
  },
  {
   "cell_type": "code",
   "execution_count": 3,
   "metadata": {
    "ExecuteTime": {
     "end_time": "2019-04-03T11:10:13.917833Z",
     "start_time": "2019-04-03T11:10:13.912566Z"
    }
   },
   "outputs": [],
   "source": [
    "def fillNan(df, method=\"linear\"):\n",
    "    \"\"\"Fill Nan values of X_train of X_test with an interpolation.\"\"\"\n",
    "\n",
    "    # Interpolate the missing value thanks to interpolation for each station_id\n",
    "    columns_to_interpolate = [\"value_\" + str(i) for i in range(10)]\n",
    "\n",
    "    # Group samples by station_id\n",
    "    g_stations_df = df.groupby([\"station_id\"])\n",
    "\n",
    "    # Loop over the different groups\n",
    "    for station_id, g in g_stations_df:\n",
    "\n",
    "        # Interpolate the value of columns_to_interpolate\n",
    "        values = g[columns_to_interpolate]\n",
    "        values.interpolate(inplace=True, method=method,\n",
    "                           limit_direction='forward', axis=0)\n",
    "        values.interpolate(inplace=True, method=method,\n",
    "                           limit_direction='backward', axis=0)\n",
    "\n",
    "        # Replace the values of df\n",
    "        df.loc[g.index, columns_to_interpolate] = values.values\n",
    "    \n",
    "    return df"
   ]
  },
  {
   "cell_type": "code",
   "execution_count": 4,
   "metadata": {
    "ExecuteTime": {
     "end_time": "2019-04-03T11:10:32.810100Z",
     "start_time": "2019-04-03T11:10:14.093957Z"
    },
    "scrolled": true
   },
   "outputs": [
    {
     "name": "stdout",
     "output_type": "stream",
     "text": [
      "Before Fill Nan:  ID                            0\n",
      "station_id                    0\n",
      "hdres_100                     0\n",
      "hdres_500                     0\n",
      "ldres_100                     0\n",
      "ldres_500                     0\n",
      "industry_100                  0\n",
      "industry_500                  0\n",
      "urbgreen_100                  0\n",
      "urbgreen_500                  0\n",
      "roads_length_25               0\n",
      "roads_length_100              0\n",
      "roads_length_500              0\n",
      "major_roads_length_25         0\n",
      "major_roads_length_100        0\n",
      "major_roads_length_500        0\n",
      "distance_0                    0\n",
      "distance_1                    0\n",
      "distance_2                    0\n",
      "distance_3                    0\n",
      "distance_4                    0\n",
      "distance_5                    0\n",
      "distance_6                    0\n",
      "distance_7                    0\n",
      "distance_8                    0\n",
      "distance_9                    0\n",
      "value_0                   21605\n",
      "value_1                   30245\n",
      "value_2                   20751\n",
      "value_3                   13919\n",
      "value_4                   16561\n",
      "value_5                   10733\n",
      "value_6                   11310\n",
      "value_7                   33451\n",
      "value_8                   29409\n",
      "value_9                   34645\n",
      "dtype: int64\n"
     ]
    },
    {
     "name": "stderr",
     "output_type": "stream",
     "text": [
      "/home/pierre/anaconda3/lib/python3.6/site-packages/ipykernel_launcher.py:16: SettingWithCopyWarning: \n",
      "A value is trying to be set on a copy of a slice from a DataFrame\n",
      "\n",
      "See the caveats in the documentation: http://pandas.pydata.org/pandas-docs/stable/indexing.html#indexing-view-versus-copy\n",
      "  app.launch_new_instance()\n",
      "/home/pierre/anaconda3/lib/python3.6/site-packages/ipykernel_launcher.py:18: SettingWithCopyWarning: \n",
      "A value is trying to be set on a copy of a slice from a DataFrame\n",
      "\n",
      "See the caveats in the documentation: http://pandas.pydata.org/pandas-docs/stable/indexing.html#indexing-view-versus-copy\n"
     ]
    },
    {
     "data": {
      "text/plain": [
       "ID                        0\n",
       "station_id                0\n",
       "hdres_100                 0\n",
       "hdres_500                 0\n",
       "ldres_100                 0\n",
       "ldres_500                 0\n",
       "industry_100              0\n",
       "industry_500              0\n",
       "urbgreen_100              0\n",
       "urbgreen_500              0\n",
       "roads_length_25           0\n",
       "roads_length_100          0\n",
       "roads_length_500          0\n",
       "major_roads_length_25     0\n",
       "major_roads_length_100    0\n",
       "major_roads_length_500    0\n",
       "distance_0                0\n",
       "distance_1                0\n",
       "distance_2                0\n",
       "distance_3                0\n",
       "distance_4                0\n",
       "distance_5                0\n",
       "distance_6                0\n",
       "distance_7                0\n",
       "distance_8                0\n",
       "distance_9                0\n",
       "value_0                   0\n",
       "value_1                   0\n",
       "value_2                   0\n",
       "value_3                   0\n",
       "value_4                   0\n",
       "value_5                   0\n",
       "value_6                   0\n",
       "value_7                   0\n",
       "value_8                   0\n",
       "value_9                   0\n",
       "dtype: int64"
      ]
     },
     "execution_count": 4,
     "metadata": {},
     "output_type": "execute_result"
    }
   ],
   "source": [
    "# Check the number of Nan values of X_train_df\n",
    "print(\"Before Fill Nan: \", X_train_df.isna().sum())\n",
    "\n",
    "# Fill Nan of X_train and X_test\n",
    "X_train_df = fillNan(X_train_df)\n",
    "X_test_df = fillNan(X_test_df)\n",
    "\n",
    "# Fill Nan with the mean\n",
    "# X_train_df.fillna(X_train_df.mean(), inplace=True)\n",
    "# X_test_df.fillna(X_test_df.mean(), inplace=True)\n",
    "\n",
    "# Fill Nan with 0\n",
    "# X_train_df.fillna(0, inplace=True)\n",
    "# X_test_df.fillna(0, inplace=True)\n",
    "\n",
    "# Drop rows with NaN\n",
    "# X_train_df.dropna(inplace=True)\n",
    "# X_test_df.dropna(inplace=True)\n",
    "# Y_train_df = Y_train_df.loc[X_train_df.index, :]\n",
    "# print(\"New Shape: \", X_train_df.shape, Y_train_df.shape)\n",
    "    \n",
    "# Check the number of Nan values of X_train_df\n",
    "X_train_df.isna().sum()"
   ]
  },
  {
   "cell_type": "markdown",
   "metadata": {},
   "source": [
    "## 2.3 - Add the inverse of the distance"
   ]
  },
  {
   "cell_type": "code",
   "execution_count": 5,
   "metadata": {
    "ExecuteTime": {
     "end_time": "2019-04-03T11:10:36.231689Z",
     "start_time": "2019-04-03T11:10:33.000560Z"
    }
   },
   "outputs": [],
   "source": [
    "def inverse(x):\n",
    "    \"\"\"Compute the inverse of x if x not null.\"\"\"\n",
    "    \n",
    "    if x != 0:\n",
    "        return 1 / x\n",
    "    else:\n",
    "        return 10e10\n",
    "\n",
    "# Loop over all columns of distance\n",
    "for i in range(10):\n",
    "    \n",
    "    # Compute new columns\n",
    "    X_train_df[\"inv_distance_\" + str(i)] = X_train_df[\"distance_\" + str(i)].apply(\n",
    "                                                lambda x: inverse(x))\n",
    "    X_test_df[\"inv_distance_\" + str(i)] = X_test_df[\"distance_\" + str(i)].apply(\n",
    "                                                lambda x: inverse(x))"
   ]
  },
  {
   "cell_type": "markdown",
   "metadata": {},
   "source": [
    "## 2.4 - Add the Benchmark"
   ]
  },
  {
   "cell_type": "code",
   "execution_count": 6,
   "metadata": {
    "ExecuteTime": {
     "end_time": "2019-04-03T11:10:36.486321Z",
     "start_time": "2019-04-03T11:10:36.482271Z"
    }
   },
   "outputs": [],
   "source": [
    "def addBenchmark(df):\n",
    "    \"\"\"Add benchmark to df.\"\"\"\n",
    "    \n",
    "    # Compute the inverse of the distance\n",
    "    distance_inv = (1. / df.filter(regex='^distance*', axis = 1)).values\n",
    "\n",
    "    # Extract the value at the nearest station\n",
    "    values = df.filter(regex='value_*', axis = 1)\n",
    "    \n",
    "    # Compute the benchmark\n",
    "    numer = (distance_inv * values).sum(axis = 1)\n",
    "    denom = (distance_inv * (values != 0)).sum(axis = 1)\n",
    "    \n",
    "    # Compute the benchmark\n",
    "    benchmark = numer / denom\n",
    "    df[\"Benchmark\"] = benchmark"
   ]
  },
  {
   "cell_type": "code",
   "execution_count": null,
   "metadata": {
    "ExecuteTime": {
     "end_time": "2019-04-03T08:09:32.416896Z",
     "start_time": "2019-04-03T08:09:32.412757Z"
    }
   },
   "outputs": [],
   "source": [
    "def addBenchmark2(df):\n",
    "    \"\"\"Add benchmark with the squares of the distances to df.\"\"\"\n",
    "    \n",
    "    # Compute the inverse of the distance\n",
    "    distance_inv = (1. / df.filter(regex='^distance*', axis = 1)).values\n",
    "\n",
    "    # Extract the value at the nearest station\n",
    "    values = df.filter(regex='value_*', axis = 1)\n",
    "    \n",
    "    # Compute the benchmark\n",
    "    numer = (distance_inv ** 2 * values).sum(axis = 1)\n",
    "    denom = (distance_inv ** 2 * (values != 0)).sum(axis = 1)\n",
    "    \n",
    "    # Compute the benchmark\n",
    "    benchmark = numer / denom\n",
    "    df[\"Benchmark2\"] = benchmark\n",
    "    \n",
    "    return df"
   ]
  },
  {
   "cell_type": "code",
   "execution_count": 7,
   "metadata": {
    "ExecuteTime": {
     "end_time": "2019-04-03T11:10:37.327740Z",
     "start_time": "2019-04-03T11:10:36.731239Z"
    }
   },
   "outputs": [],
   "source": [
    "# Add the benchmark to the dataFrames\n",
    "addBenchmark(X_train_df)\n",
    "addBenchmark(X_test_df)"
   ]
  },
  {
   "cell_type": "markdown",
   "metadata": {},
   "source": [
    "## 2.5 - Add the Squares of the values in df"
   ]
  },
  {
   "cell_type": "code",
   "execution_count": null,
   "metadata": {
    "ExecuteTime": {
     "end_time": "2019-03-30T18:49:53.240580Z",
     "start_time": "2019-03-30T18:49:53.237254Z"
    }
   },
   "outputs": [],
   "source": [
    "def addSquares(df):\n",
    "    \"\"\"Add the square of the values of all columns.\"\"\"\n",
    "\n",
    "    # Extract all columns of df\n",
    "    columns = df.filter(regex='^distance*', axis = 1).columns\n",
    "\n",
    "    # Loop over all column in columns\n",
    "    for col in columns:\n",
    "\n",
    "        # Add the square\n",
    "        df[col + str(\"^2\")] = df[col] ** 2\n",
    "\n",
    "    return df"
   ]
  },
  {
   "cell_type": "code",
   "execution_count": null,
   "metadata": {
    "ExecuteTime": {
     "end_time": "2019-03-30T18:49:57.401089Z",
     "start_time": "2019-03-30T18:49:56.944889Z"
    },
    "scrolled": true
   },
   "outputs": [],
   "source": [
    "# Add the benchmark to the dataFrames\n",
    "addSquares(X_train_df)\n",
    "addSquares(X_test_df)"
   ]
  },
  {
   "cell_type": "markdown",
   "metadata": {},
   "source": [
    "## 2.6 - Clipping of the value between 0 and 100"
   ]
  },
  {
   "cell_type": "code",
   "execution_count": null,
   "metadata": {
    "ExecuteTime": {
     "end_time": "2019-04-02T20:43:33.165645Z",
     "start_time": "2019-04-02T20:43:25.078Z"
    }
   },
   "outputs": [],
   "source": [
    "def clipping(df, lower=0, upper=100):\n",
    "    \"\"\"Clipping of the value between 0 and 100.\"\"\"\n",
    "    \n",
    "        # Extract all columns of df\n",
    "    columns = df.filter(regex='^value*', axis = 1).columns\n",
    "\n",
    "    # Loop over all column in columns\n",
    "    df[columns].clip(lower=lower, upper=upper, inplace=True, axis=0)\n",
    "\n",
    "    return df"
   ]
  },
  {
   "cell_type": "code",
   "execution_count": null,
   "metadata": {
    "ExecuteTime": {
     "end_time": "2019-04-02T20:43:33.148229Z",
     "start_time": "2019-04-02T20:43:32.958916Z"
    }
   },
   "outputs": [],
   "source": [
    "# Clip the value of the dataFrame\n",
    "X_train_df = clipping(X_train_df)\n",
    "X_test_df = clipping(X_test_df)"
   ]
  },
  {
   "cell_type": "markdown",
   "metadata": {
    "heading_collapsed": true
   },
   "source": [
    "## 2.7 - Remove High Value"
   ]
  },
  {
   "cell_type": "code",
   "execution_count": null,
   "metadata": {
    "ExecuteTime": {
     "end_time": "2019-04-01T17:48:32.268156Z",
     "start_time": "2019-04-01T17:48:32.259741Z"
    },
    "hidden": true
   },
   "outputs": [],
   "source": [
    "def removeHighValue(x_df, y_df):\n",
    "    \"\"\"Remove high value from df.\"\"\"\n",
    "    \n",
    "    # Extract index of low value\n",
    "    x_df[\"max\"] = x_df.filter(regex='^value*', axis = 1).max(axis=1)\n",
    "    index_low_values = x_df[x_df[\"max\"] > 100].index\n",
    "    \n",
    "    # Extract only low value\n",
    "    x_df = x_df.loc[index_low_values, :]\n",
    "    y_df = y_df.loc[index_low_values, :]\n",
    "    \n",
    "    return x_df, y_df"
   ]
  },
  {
   "cell_type": "code",
   "execution_count": null,
   "metadata": {
    "ExecuteTime": {
     "end_time": "2019-04-01T17:48:33.048305Z",
     "start_time": "2019-04-01T17:48:32.908035Z"
    },
    "hidden": true
   },
   "outputs": [],
   "source": [
    "# Remove high value\n",
    "removeHighValue(X_train_df, Y_train_df);"
   ]
  },
  {
   "cell_type": "markdown",
   "metadata": {},
   "source": [
    "## 2.* - Extract a same number of samples of each stations"
   ]
  },
  {
   "cell_type": "code",
   "execution_count": 8,
   "metadata": {
    "ExecuteTime": {
     "end_time": "2019-04-03T08:24:39.598502Z",
     "start_time": "2019-04-03T08:24:39.197306Z"
    },
    "scrolled": false
   },
   "outputs": [
    {
     "name": "stdout",
     "output_type": "stream",
     "text": [
      "Number of stations:  85\n",
      "Number of samples per stations:  station_id\n",
      "0      8639\n",
      "2      8779\n",
      "3      8779\n",
      "4      8779\n",
      "5      3961\n",
      "6      8675\n",
      "7      8601\n",
      "8      8309\n",
      "9      8436\n",
      "10     8534\n",
      "11     8464\n",
      "14     8649\n",
      "15     8257\n",
      "16     8478\n",
      "17     8045\n",
      "18     7055\n",
      "19     8675\n",
      "20     8502\n",
      "21     8618\n",
      "22     6468\n",
      "23     8768\n",
      "24     8747\n",
      "25     8726\n",
      "26     8688\n",
      "28     8779\n",
      "30     8779\n",
      "32     8599\n",
      "34     8779\n",
      "35     8766\n",
      "37     8549\n",
      "       ... \n",
      "76     8185\n",
      "77     8175\n",
      "78     8779\n",
      "80     8779\n",
      "82     6468\n",
      "83     8779\n",
      "85     8779\n",
      "86     8779\n",
      "87     8779\n",
      "88     8779\n",
      "89     6417\n",
      "90     6438\n",
      "92     6397\n",
      "93     8779\n",
      "94     8779\n",
      "95     7921\n",
      "96     2118\n",
      "97     6468\n",
      "99     8779\n",
      "100    8779\n",
      "102    8779\n",
      "104    8779\n",
      "105    8779\n",
      "106    8779\n",
      "108    8779\n",
      "109    8528\n",
      "110    8185\n",
      "111    8228\n",
      "113    4591\n",
      "114    8228\n",
      "Length: 85, dtype: int64\n"
     ]
    }
   ],
   "source": [
    "# Number of stations\n",
    "print(\"Number of stations: \", len(X_train_df[\"station_id\"].unique()))\n",
    "print(\"Number of samples per stations: \", X_train_df.groupby([\"station_id\"]).\\\n",
    "                                           apply(lambda g: len(g[\"hdres_100\"])))"
   ]
  },
  {
   "cell_type": "code",
   "execution_count": 8,
   "metadata": {
    "ExecuteTime": {
     "end_time": "2019-04-03T11:10:39.219850Z",
     "start_time": "2019-04-03T11:10:37.521350Z"
    }
   },
   "outputs": [
    {
     "name": "stdout",
     "output_type": "stream",
     "text": [
      "Shape:  (521412, 47)\n"
     ]
    }
   ],
   "source": [
    "# Initialisation of the seed\n",
    "np.random.seed(42)\n",
    "\n",
    "# Proportion of samples to extract from each station\n",
    "p = 0.75\n",
    "\n",
    "# Loop to compute the lines to extract\n",
    "lines_train = []\n",
    "lines_test = []\n",
    "g_stations_df = X_train_df.groupby([\"station_id\"])\n",
    "\n",
    "# Loop over the different groups\n",
    "for station_id, g in g_stations_df:\n",
    "    \n",
    "    # Extract the index of the current group\n",
    "    idx = np.array(g.index)\n",
    "    \n",
    "    # Shuffle of idx\n",
    "    np.random.shuffle(idx)\n",
    "    \n",
    "    # Extract a random proportion p of idx\n",
    "    n = len(idx)\n",
    "    n_p = int(n * p)\n",
    "    lines_train.extend(idx[:n_p])\n",
    "    lines_test.extend(idx[n_p:])\n",
    "    \n",
    "# Extract the samples in X_train_df and Y_train_df\n",
    "X_train_sub_train_df = X_train_df.loc[lines_train, :]\n",
    "Y_train_sub_train_df = Y_train_df.loc[lines_train, :]\n",
    "X_train_sub_test_df = X_train_df.loc[lines_train, :]\n",
    "Y_train_sub_test_df = Y_train_df.loc[lines_train, :]\n",
    "\n",
    "# New length\n",
    "print(\"Shape: \", X_train_sub_train_df.shape)"
   ]
  },
  {
   "cell_type": "markdown",
   "metadata": {},
   "source": [
    "## 2.* - Extract values a numpy array"
   ]
  },
  {
   "cell_type": "code",
   "execution_count": 9,
   "metadata": {
    "ExecuteTime": {
     "end_time": "2019-04-03T11:10:40.315504Z",
     "start_time": "2019-04-03T11:10:39.926312Z"
    }
   },
   "outputs": [],
   "source": [
    "# Extract all tables as numpy array\n",
    "X_train = X_train_df.iloc[:, 2:].values\n",
    "X_test = X_test_df.iloc[:, 2:].values\n",
    "y_train = Y_train_df.loc[:, \"value\"].values\n",
    "\n",
    "# Extract sub tables as numpy array\n",
    "X_train_sub_train = X_train_sub_train_df.iloc[:, 2:].values\n",
    "y_train_sub_train = Y_train_sub_train_df.loc[:, \"value\"].values\n",
    "X_train_sub_test = X_train_sub_test_df.iloc[:, 2:].values\n",
    "y_train_sub_test = Y_train_sub_test_df.loc[:, \"value\"].values"
   ]
  },
  {
   "cell_type": "markdown",
   "metadata": {
    "heading_collapsed": true
   },
   "source": [
    "# 3 - Model"
   ]
  },
  {
   "cell_type": "markdown",
   "metadata": {
    "hidden": true
   },
   "source": [
    "## 3.1 - SVM"
   ]
  },
  {
   "cell_type": "code",
   "execution_count": null,
   "metadata": {
    "ExecuteTime": {
     "start_time": "2019-03-30T18:31:32.019Z"
    },
    "hidden": true
   },
   "outputs": [],
   "source": [
    "# Hyper-parameter of the SVM\n",
    "hp_svm = {\"kernel\": ['poly', 'rbf'],\n",
    "          \"gamma\": ['scale'],\n",
    "          \"C\": [1],           # [10 ** (i) for i in np.linspace(-5, 5, 10)]\n",
    "          \"epsilon\": [0.1]}   # [10 ** (i) for i in np.linspace(-5, 5, 10)]\n",
    "\n",
    "# SVM model\n",
    "svm_model = svm.SVR()"
   ]
  },
  {
   "cell_type": "markdown",
   "metadata": {
    "hidden": true
   },
   "source": [
    "## 3.2 - LASSO"
   ]
  },
  {
   "cell_type": "code",
   "execution_count": null,
   "metadata": {
    "ExecuteTime": {
     "start_time": "2019-03-30T18:20:36.244Z"
    },
    "hidden": true
   },
   "outputs": [],
   "source": [
    "# Hyper-parameter of the SVM\n",
    "hp_lasso = {\"alpha\": [10],\n",
    "            \"fit_intercept\": [False],\n",
    "            \"normalize\": [True]\n",
    "           }\n",
    "\n",
    "# SVM model\n",
    "lasso_model = sklin.Lasso()"
   ]
  },
  {
   "cell_type": "markdown",
   "metadata": {
    "heading_collapsed": true
   },
   "source": [
    "# 4 - GridSearch"
   ]
  },
  {
   "cell_type": "markdown",
   "metadata": {
    "hidden": true
   },
   "source": [
    "## 4.1 - Apply the GridSearch"
   ]
  },
  {
   "cell_type": "code",
   "execution_count": null,
   "metadata": {
    "ExecuteTime": {
     "start_time": "2019-03-30T18:20:36.336Z"
    },
    "hidden": true
   },
   "outputs": [],
   "source": [
    "# Metrics\n",
    "loss = metrics.mean_squared_error # mean_squared_log_error\n",
    "scoring = metrics.make_scorer(loss, greater_is_better=False)\n",
    "\n",
    "# Apply the gridSearch\n",
    "model = lasso_model # svm_model\n",
    "model_name = \"Lasso\" # SVM\n",
    "hp = hp_lasso # hp_svm\n",
    "gds = mod_selec.GridSearchCV(model, hp, scoring=scoring, cv=5, error_score=\"raise\",\n",
    "                             verbose=1, n_jobs=-1)"
   ]
  },
  {
   "cell_type": "code",
   "execution_count": null,
   "metadata": {
    "ExecuteTime": {
     "start_time": "2019-03-30T18:20:36.338Z"
    },
    "hidden": true
   },
   "outputs": [],
   "source": [
    "# Fiting of the GridSearch\n",
    "gds.fit(X_train, y_train)\n",
    "\n",
    "# Display best score and best params\n",
    "print(\"Display best score: \", gds.best_score_)\n",
    "print(\"Display best params: \", gds.best_params_)"
   ]
  },
  {
   "cell_type": "markdown",
   "metadata": {
    "hidden": true
   },
   "source": [
    "## 4.2 - Make Predictions"
   ]
  },
  {
   "cell_type": "code",
   "execution_count": null,
   "metadata": {
    "ExecuteTime": {
     "start_time": "2019-03-30T18:20:36.384Z"
    },
    "hidden": true
   },
   "outputs": [],
   "source": [
    "# Make predictions\n",
    "y_pred_values = gds.predict(X_test)\n",
    "\n",
    "# Clip the predictions to be positives\n",
    "y_pred_values = np.where(y_pred_values < 0, 0, y_pred_values)\n",
    "\n",
    "# Disaply the scores\n",
    "print(\"Score on the training set: \", metrics.mean_squared_log_error(y_train,\n",
    "                                                                    gds.predict(X_train))\n",
    "\n",
    "# Save predictions\n",
    "Y_pred_df = X_test_df.ID.to_frame()\n",
    "Y_pred_df[\"value\"] = y_pred_values\n",
    "Y_pred_df.to_csv(\"./Results/Predictions_GridSearch_\" + model_name + \".csv\", index=False)"
   ]
  },
  {
   "cell_type": "markdown",
   "metadata": {},
   "source": [
    "# 5 - Neural Network"
   ]
  },
  {
   "cell_type": "markdown",
   "metadata": {},
   "source": [
    "## 5.1 - Model"
   ]
  },
  {
   "cell_type": "code",
   "execution_count": 19,
   "metadata": {
    "ExecuteTime": {
     "end_time": "2019-04-03T11:19:11.925322Z",
     "start_time": "2019-04-03T11:19:11.909069Z"
    }
   },
   "outputs": [],
   "source": [
    "class NN(object):\n",
    "    def __init__(self, shape=1, dropout=0, batch_normalisation=False,\n",
    "                 nb_neurons_l=16, epochs=5, batch_size=32):\n",
    "        \"\"\"Initialisation of the neural network.\"\"\"\n",
    "\n",
    "        # Save parameters of the compilator\n",
    "        self.epochs = epochs\n",
    "        self.batch_size = batch_size\n",
    "\n",
    "        # Compute the input shape\n",
    "        input_shape = (shape, )\n",
    "\n",
    "        # Extract numbers of neurons\n",
    "        if type(nb_neurons_l) == int:\n",
    "            nb_neurons_l = [nb_neurons_l for i in range(3)]\n",
    "\n",
    "        # Definition of the model\n",
    "        self.model = Sequential()\n",
    "\n",
    "        # Dense Layer\n",
    "        if batch_normalisation:\n",
    "            self.model.add(BatchNormalization())\n",
    "\n",
    "        self.model.add(Dense(nb_neurons_l[0], activation=\"relu\",\n",
    "                             input_shape=input_shape))\n",
    "\n",
    "        if dropout[0] > 0:\n",
    "            self.model.add(Dropout(dropout[0]))\n",
    "\n",
    "        self.model.add(Dense(nb_neurons_l[1], activation=\"relu\"))\n",
    "\n",
    "        if dropout[1] > 0:\n",
    "            self.model.add(Dropout(dropout[1]))\n",
    "\n",
    "        self.model.add(Dense(nb_neurons_l[2], activation=\"relu\"))\n",
    "\n",
    "        if dropout[2] > 0:\n",
    "            self.model.add(Dropout(dropout[2]))\n",
    "\n",
    "        self.model.add(Dense(1, activation=\"relu\"))\n",
    "\n",
    "        # Definition of the loss function\n",
    "        self.model.compile(loss='mean_squared_logarithmic_error',\n",
    "                           optimizer=\"adam\")\n",
    "\n",
    "    def fit(self, X_train, y_train, X_val=None, y_val=None):\n",
    "        \"\"\"Fitting of the model.\"\"\"\n",
    "\n",
    "        if (X_val is None) or (y_val is None):\n",
    "            self.model.fit(X_train, y_train,\n",
    "                           epochs=self.epochs, batch_size=self.batch_size,\n",
    "                           verbose=1)\n",
    "        else:\n",
    "            self.model.fit(X_train, y_train,\n",
    "                           epochs=self.epochs, batch_size=self.batch_size,\n",
    "                           verbose=1, validation_data=(X_val, y_val))\n",
    "\n",
    "    def predict(self, X):\n",
    "        \"\"\"Predictions for the dataset given in arguument.\"\"\"\n",
    "\n",
    "        # Make predictions\n",
    "        y_pred = self.model.predict(X)\n",
    "\n",
    "        return y_pred\n",
    "\n",
    "    def score(self, X, y):\n",
    "        \"\"\"Compute the score between the prediction of X and the true y.\"\"\"\n",
    "\n",
    "        score = metrics.mean_squared_log_error(y, self.predict(X))\n",
    "\n",
    "        return score\n",
    "\n",
    "    def makePredictions(self, X_test_df, X_train, y_train):\n",
    "        \"\"\"Compyte the predictions and save the results.\"\"\"\n",
    "\n",
    "        # Make predictions\n",
    "        y_pred_values = self.predict(X_test_df.iloc[:, 2:].values)\n",
    "\n",
    "        # Clip the predictions to be positives\n",
    "        y_pred_values = np.where(y_pred_values < 0, 0, y_pred_values)\n",
    "\n",
    "        # Disaply the scores\n",
    "        print(\"Score on the training set: \",\n",
    "              metrics.mean_squared_log_error(y_train,\n",
    "                                             self.model.predict(X_train)))\n",
    "\n",
    "        # Save predictions\n",
    "        Y_pred_df = X_test_df.ID.to_frame()\n",
    "        Y_pred_df[\"value\"] = y_pred_values\n",
    "        Y_pred_df.to_csv(\"./Results/Predictions_NN.csv\", index=False)"
   ]
  },
  {
   "cell_type": "markdown",
   "metadata": {},
   "source": [
    "## 5.2 - CrossValidation"
   ]
  },
  {
   "cell_type": "code",
   "execution_count": 20,
   "metadata": {
    "ExecuteTime": {
     "end_time": "2019-04-03T11:19:12.754761Z",
     "start_time": "2019-04-03T11:19:12.746936Z"
    }
   },
   "outputs": [],
   "source": [
    "def CrossValidation(X_train_df, Y_train_df, model_hp, cv=5, n_jobs=-1):\n",
    "    \"\"\"Apply a cross validation to the model.\"\"\"\n",
    "\n",
    "    # Initialisation of the time\n",
    "    start = time.time()\n",
    "\n",
    "    # Extract all tables as numpy array\n",
    "    X_train = np.array(X_train_df.iloc[:, 2:].values)\n",
    "    y_train = np.array(Y_train_df.loc[:, \"value\"].values).reshape((-1, 1))\n",
    "\n",
    "    # Shape of data\n",
    "    n = np.shape(X_train)[0]\n",
    "    step = n // cv\n",
    "\n",
    "    def oneFold(k, cv=cv):\n",
    "        \"\"\"Execute one fold of the cv.\"\"\"\n",
    "\n",
    "        # Index for the training set and testing set\n",
    "        if k == cv - 1:\n",
    "            idx_test = np.arange(k * step, n)\n",
    "        else:\n",
    "            idx_test = np.arange(k * step, (k + 1) * step)\n",
    "        idx_train = np.delete(np.arange(0, n), idx_test)\n",
    "\n",
    "        # Extract the kth X_train and X_test batch\n",
    "        X_train_k = X_train[idx_train, :]\n",
    "        y_train_k = y_train[idx_train, :]\n",
    "        X_test_k = X_train[idx_test, :]\n",
    "        y_test_k = y_train[idx_test, :]\n",
    "        \n",
    "        # Creation of the model\n",
    "        model = NN(**model_hp)\n",
    "\n",
    "        # Fitting of the model on this batch\n",
    "        model.fit(X_train_k, y_train_k, X_test_k, y_test_k)\n",
    "\n",
    "        # Compute the score for this fold\n",
    "        score_k = model.score(X_test_k, y_test_k)\n",
    "        print(\"Score k on  Test: \", score_k)\n",
    "\n",
    "        return score_k\n",
    "\n",
    "    # Parallelisation of the cv\n",
    "    all_scores = [oneFold(k) for k in tqdm.tqdm(range(cv))]\n",
    "\n",
    "    # Display the time required\n",
    "    print(\"Time of the cross-validation: {:4f}, Score: {:4f}\".format(\n",
    "          time.time() - start, np.mean(all_scores)))\n",
    "\n",
    "    return np.mean(all_scores)"
   ]
  },
  {
   "cell_type": "markdown",
   "metadata": {},
   "source": [
    "## 5.2 - Architecture and Compilation"
   ]
  },
  {
   "cell_type": "code",
   "execution_count": 23,
   "metadata": {
    "ExecuteTime": {
     "end_time": "2019-04-03T11:30:48.084997Z",
     "start_time": "2019-04-03T11:21:14.559703Z"
    },
    "scrolled": true
   },
   "outputs": [
    {
     "name": "stderr",
     "output_type": "stream",
     "text": [
      "\n",
      "  0%|          | 0/5 [00:00<?, ?it/s]\u001b[A"
     ]
    },
    {
     "name": "stdout",
     "output_type": "stream",
     "text": [
      "Train on 556204 samples, validate on 139051 samples\n",
      "Epoch 1/10\n",
      "556204/556204 [==============================] - 11s 20us/step - loss: 0.2094 - val_loss: 0.1039\n",
      "Epoch 2/10\n",
      "556204/556204 [==============================] - 10s 19us/step - loss: 0.1182 - val_loss: 0.1021\n",
      "Epoch 3/10\n",
      "556204/556204 [==============================] - 11s 19us/step - loss: 0.1123 - val_loss: 0.1107\n",
      "Epoch 4/10\n",
      "556204/556204 [==============================] - 11s 19us/step - loss: 0.1094 - val_loss: 0.1221\n",
      "Epoch 5/10\n",
      "556204/556204 [==============================] - 11s 19us/step - loss: 0.1078 - val_loss: 0.1108\n",
      "Epoch 6/10\n",
      "556204/556204 [==============================] - 11s 19us/step - loss: 0.1063 - val_loss: 0.1095\n",
      "Epoch 7/10\n",
      "556204/556204 [==============================] - 11s 20us/step - loss: 0.1050 - val_loss: 0.1108\n",
      "Epoch 8/10\n",
      "556204/556204 [==============================] - 11s 20us/step - loss: 0.1043 - val_loss: 0.1150\n",
      "Epoch 9/10\n",
      "556204/556204 [==============================] - 11s 20us/step - loss: 0.1038 - val_loss: 0.0972\n",
      "Epoch 10/10\n",
      "556204/556204 [==============================] - 11s 19us/step - loss: 0.1033 - val_loss: 0.0936\n"
     ]
    },
    {
     "name": "stderr",
     "output_type": "stream",
     "text": [
      "\n",
      " 20%|██        | 1/5 [01:50<07:23, 110.83s/it]\u001b[A"
     ]
    },
    {
     "name": "stdout",
     "output_type": "stream",
     "text": [
      "Score k on  Test:  0.09356346428945983\n",
      "Train on 556204 samples, validate on 139051 samples\n",
      "Epoch 1/10\n",
      "556204/556204 [==============================] - 11s 21us/step - loss: 0.1531 - val_loss: 0.1658\n",
      "Epoch 2/10\n",
      "556204/556204 [==============================] - 11s 20us/step - loss: 0.1035 - val_loss: 0.1583\n",
      "Epoch 3/10\n",
      "556204/556204 [==============================] - 11s 20us/step - loss: 0.0976 - val_loss: 0.1622\n",
      "Epoch 4/10\n",
      "556204/556204 [==============================] - 11s 19us/step - loss: 0.0948 - val_loss: 0.2789\n",
      "Epoch 5/10\n",
      "556204/556204 [==============================] - 10s 19us/step - loss: 0.0933 - val_loss: 0.1591\n",
      "Epoch 6/10\n",
      "556204/556204 [==============================] - 11s 19us/step - loss: 0.0925 - val_loss: 0.1510\n",
      "Epoch 7/10\n",
      "556204/556204 [==============================] - 11s 19us/step - loss: 0.0911 - val_loss: 0.1553\n",
      "Epoch 8/10\n",
      "556204/556204 [==============================] - 11s 20us/step - loss: 0.0908 - val_loss: 0.1625\n",
      "Epoch 9/10\n",
      "556204/556204 [==============================] - 11s 20us/step - loss: 0.0901 - val_loss: 0.1602\n",
      "Epoch 10/10\n",
      "556204/556204 [==============================] - 11s 20us/step - loss: 0.0895 - val_loss: 0.1582\n"
     ]
    },
    {
     "name": "stderr",
     "output_type": "stream",
     "text": [
      "\n",
      " 40%|████      | 2/5 [03:43<05:33, 111.27s/it]\u001b[A"
     ]
    },
    {
     "name": "stdout",
     "output_type": "stream",
     "text": [
      "Score k on  Test:  0.15816118087451314\n",
      "Train on 556204 samples, validate on 139051 samples\n",
      "Epoch 1/10\n",
      "556204/556204 [==============================] - 12s 21us/step - loss: 0.1336 - val_loss: 0.1345\n",
      "Epoch 2/10\n",
      "556204/556204 [==============================] - 11s 20us/step - loss: 0.1084 - val_loss: 0.1284\n",
      "Epoch 3/10\n",
      "556204/556204 [==============================] - 11s 20us/step - loss: 0.1046 - val_loss: 0.1311\n",
      "Epoch 4/10\n",
      "556204/556204 [==============================] - 11s 20us/step - loss: 0.1021 - val_loss: 0.1364\n",
      "Epoch 5/10\n",
      "556204/556204 [==============================] - 11s 20us/step - loss: 0.1005 - val_loss: 0.1301\n",
      "Epoch 6/10\n",
      "556204/556204 [==============================] - 11s 20us/step - loss: 0.0992 - val_loss: 0.1353\n",
      "Epoch 7/10\n",
      "556204/556204 [==============================] - 11s 20us/step - loss: 0.0984 - val_loss: 0.1381\n",
      "Epoch 8/10\n",
      "556204/556204 [==============================] - 11s 20us/step - loss: 0.0977 - val_loss: 0.1423\n",
      "Epoch 9/10\n",
      "556204/556204 [==============================] - 11s 19us/step - loss: 0.0975 - val_loss: 0.1405\n",
      "Epoch 10/10\n",
      "556204/556204 [==============================] - 11s 20us/step - loss: 0.0967 - val_loss: 0.1401\n"
     ]
    },
    {
     "name": "stderr",
     "output_type": "stream",
     "text": [
      "\n",
      " 60%|██████    | 3/5 [05:37<03:44, 112.29s/it]\u001b[A"
     ]
    },
    {
     "name": "stdout",
     "output_type": "stream",
     "text": [
      "Score k on  Test:  0.14008713853307161\n",
      "Train on 556204 samples, validate on 139051 samples\n",
      "Epoch 1/10\n",
      "556204/556204 [==============================] - 12s 22us/step - loss: 0.1548 - val_loss: 0.1772\n",
      "Epoch 2/10\n",
      "556204/556204 [==============================] - 11s 21us/step - loss: 0.1048 - val_loss: 0.1974\n",
      "Epoch 3/10\n",
      "556204/556204 [==============================] - 12s 21us/step - loss: 0.0993 - val_loss: 0.4357\n",
      "Epoch 4/10\n",
      "556204/556204 [==============================] - 12s 21us/step - loss: 0.0964 - val_loss: 2.4188\n",
      "Epoch 5/10\n",
      "556204/556204 [==============================] - 12s 21us/step - loss: 0.0946 - val_loss: 1.9434\n",
      "Epoch 6/10\n",
      "556204/556204 [==============================] - 12s 21us/step - loss: 0.0931 - val_loss: 0.5536\n",
      "Epoch 7/10\n",
      "556204/556204 [==============================] - 11s 21us/step - loss: 0.0920 - val_loss: 0.8419\n",
      "Epoch 8/10\n",
      "556204/556204 [==============================] - 12s 21us/step - loss: 0.0911 - val_loss: 0.2371\n",
      "Epoch 9/10\n",
      "556204/556204 [==============================] - 12s 21us/step - loss: 0.0905 - val_loss: 0.3690\n",
      "Epoch 10/10\n",
      "556204/556204 [==============================] - 11s 20us/step - loss: 0.0901 - val_loss: 2.6645\n"
     ]
    },
    {
     "name": "stderr",
     "output_type": "stream",
     "text": [
      "\n",
      " 80%|████████  | 4/5 [07:36<01:54, 114.07s/it]\u001b[A"
     ]
    },
    {
     "name": "stdout",
     "output_type": "stream",
     "text": [
      "Score k on  Test:  2.664467379058929\n",
      "Train on 556204 samples, validate on 139051 samples\n",
      "Epoch 1/10\n",
      "556204/556204 [==============================] - 12s 21us/step - loss: 0.1488 - val_loss: 0.1734\n",
      "Epoch 2/10\n",
      "556204/556204 [==============================] - 12s 21us/step - loss: 0.1085 - val_loss: 0.1618\n",
      "Epoch 3/10\n",
      "556204/556204 [==============================] - 11s 20us/step - loss: 0.1043 - val_loss: 0.1540\n",
      "Epoch 4/10\n",
      "556204/556204 [==============================] - 12s 21us/step - loss: 0.1017 - val_loss: 0.1708\n",
      "Epoch 5/10\n",
      "556204/556204 [==============================] - 11s 20us/step - loss: 0.1001 - val_loss: 0.1496\n",
      "Epoch 6/10\n",
      "556204/556204 [==============================] - 11s 20us/step - loss: 0.0989 - val_loss: 0.1746\n",
      "Epoch 7/10\n",
      "556204/556204 [==============================] - 12s 21us/step - loss: 0.0983 - val_loss: 0.1498\n",
      "Epoch 8/10\n",
      "556204/556204 [==============================] - 12s 21us/step - loss: 0.0973 - val_loss: 0.1573\n",
      "Epoch 9/10\n",
      "556204/556204 [==============================] - 11s 21us/step - loss: 0.0967 - val_loss: 0.1505\n",
      "Epoch 10/10\n",
      "556204/556204 [==============================] - 11s 21us/step - loss: 0.0964 - val_loss: 0.1451\n"
     ]
    },
    {
     "name": "stderr",
     "output_type": "stream",
     "text": [
      "\n",
      "100%|██████████| 5/5 [09:33<00:00, 115.02s/it]\u001b[A\n",
      "\u001b[A"
     ]
    },
    {
     "name": "stdout",
     "output_type": "stream",
     "text": [
      "Score k on  Test:  0.14510742501916488\n",
      "Time of the cross-validation: 573.507691, Score: 0.640277\n"
     ]
    },
    {
     "data": {
      "text/plain": [
       "0.6402773175550277"
      ]
     },
     "execution_count": 23,
     "metadata": {},
     "output_type": "execute_result"
    }
   ],
   "source": [
    "# Definition of the model\n",
    "model_hp = {\n",
    "    \"shape\" :len(X_train_df.iloc[0, 2:]), \n",
    "    \"dropout\": [0, 0, 0], \n",
    "    \"epochs\": 10,\n",
    "    \"nb_neurons_l\": 16,\n",
    "    \"batch_size\": 64\n",
    "}\n",
    "\n",
    "# Fitting of the model\n",
    "CrossValidation(X_train_df, Y_train_df, model_hp)"
   ]
  },
  {
   "cell_type": "markdown",
   "metadata": {},
   "source": [
    "## 5.2 - Make predictions"
   ]
  },
  {
   "cell_type": "code",
   "execution_count": 26,
   "metadata": {
    "ExecuteTime": {
     "end_time": "2019-04-03T11:37:33.982175Z",
     "start_time": "2019-04-03T11:37:32.212053Z"
    }
   },
   "outputs": [
    {
     "data": {
      "image/png": "[encoded data removed]",
      "text/plain": [
       "<Figure size 3000x1200 with 2 Axes>"
      ]
     },
     "metadata": {
      "needs_background": "light"
     },
     "output_type": "display_data"
    }
   ],
   "source": [
    "x = [10 ** (i) for i in np.linspace(-5, 2.99, 100)]\n",
    "x_2 = [10 ** (i) for i in np.linspace(-5, 2, 100)]\n",
    "y_300 = [(np.log((300 + 1) / (x_i + 1))) ** 2 for x_i in x]\n",
    "y_10 = [(np.log((10 + 1) / (x_i + 1))) ** 2 for x_i in x_2]\n",
    "\n",
    "fig, axs = plt.subplots(1, 2, figsize=(20, 8), dpi=150)\n",
    "axs[0].plot(x, y_300)\n",
    "axs[0].set_xlabel(\"y_pred\")\n",
    "axs[0].set_ylabel(\"MSLE\")\n",
    "axs[0].set_title(\"MSLE for y_true = 300\")\n",
    "\n",
    "axs[1].plot(x_2, y_10)\n",
    "axs[1].set_xlabel(\"y_pred\")\n",
    "axs[1].set_ylabel(\"MSLE\")\n",
    "axs[1].set_title(\"MSLE for y_true = 10\")\n",
    "\n",
    "fig.savefig(\"./Results/MSLE_Effect.png\")"
   ]
  },
  {
   "cell_type": "code",
   "execution_count": 15,
   "metadata": {
    "ExecuteTime": {
     "end_time": "2019-04-03T08:36:16.594000Z",
     "start_time": "2019-04-03T08:36:16.092822Z"
    }
   },
   "outputs": [],
   "source": [
    "# Split the Training set into a Training and a Validation sets\n",
    "X_train_split, X_val, y_train_split, y_val = mod_selec.train_test_split(X_train, y_train,\n",
    "                                                                        test_size=0.3,\n",
    "                                                                        random_state=42)"
   ]
  },
  {
   "cell_type": "code",
   "execution_count": 30,
   "metadata": {
    "ExecuteTime": {
     "end_time": "2019-04-03T09:02:39.644621Z",
     "start_time": "2019-04-03T09:00:55.095597Z"
    },
    "scrolled": false
   },
   "outputs": [
    {
     "name": "stdout",
     "output_type": "stream",
     "text": [
      "Epoch 1/7\n",
      "695255/695255 [==============================] - 15s 22us/step - loss: 0.1460\n",
      "Epoch 2/7\n",
      "695255/695255 [==============================] - 15s 21us/step - loss: 0.1095\n",
      "Epoch 3/7\n",
      "695255/695255 [==============================] - 15s 21us/step - loss: 0.1046\n",
      "Epoch 4/7\n",
      "695255/695255 [==============================] - 15s 21us/step - loss: 0.1016\n",
      "Epoch 5/7\n",
      "695255/695255 [==============================] - 15s 21us/step - loss: 0.1000\n",
      "Epoch 6/7\n",
      "695255/695255 [==============================] - 15s 21us/step - loss: 0.0984\n",
      "Epoch 7/7\n",
      "695255/695255 [==============================] - 15s 21us/step - loss: 0.0975\n"
     ]
    },
    {
     "data": {
      "text/plain": [
       "<keras.callbacks.History at 0x7f88aa1cbac8>"
      ]
     },
     "execution_count": 30,
     "metadata": {},
     "output_type": "execute_result"
    }
   ],
   "source": [
    "# Definition of the model\n",
    "model = Sequential()\n",
    "\n",
    "# Dense Layer\n",
    "# model.add(BatchNormalization())\n",
    "model.add(Dense(16, activation=\"relu\", input_shape=(len(X_train[0]), )))\n",
    "# model.add(Dropout(0.25))\n",
    "model.add(Dense(16, activation=\"relu\"))\n",
    "model.add(Dense(16, activation=\"relu\"))\n",
    "# # model.add(Dropout(0.25))\n",
    "model.add(Dense(1, activation=\"relu\"))\n",
    "\n",
    "# Definiton of the optimizer\n",
    "sgd = SGD(lr=0.01, decay=1e-6, momentum=0.9, nesterov=True)\n",
    "\n",
    "# Definition of the loss function\n",
    "model.compile(loss='mean_squared_logarithmic_error', optimizer=\"adam\")\n",
    "\n",
    "# Fitting of the model\n",
    "model.fit(X_train, y_train, epochs=7, batch_size=64, verbose=1)"
   ]
  },
  {
   "cell_type": "code",
   "execution_count": null,
   "metadata": {
    "ExecuteTime": {
     "end_time": "2019-04-03T09:00:53.380146Z",
     "start_time": "2019-04-03T09:00:44.522586Z"
    },
    "scrolled": true
   },
   "outputs": [],
   "source": [
    "errors_df = X_train_df.filter(regex='value_*', axis = 1)\n",
    "errors_df[\"pred\"] = model.predict(X_train)\n",
    "errors_df[\"true\"] = Y_train_df.loc[:, \"value\"]\n",
    "errors_df[\"errors\"] = (np.log((errors_df[\"pred\"] + 1) / (errors_df[\"true\"] + 1)) ** 2)\n",
    "errors_df.sort_values(\"errors\", ascending=False, inplace=True)\n",
    "errors_df.head(10)"
   ]
  },
  {
   "cell_type": "code",
   "execution_count": 31,
   "metadata": {
    "ExecuteTime": {
     "end_time": "2019-04-03T09:03:02.938358Z",
     "start_time": "2019-04-03T09:02:47.591106Z"
    }
   },
   "outputs": [
    {
     "name": "stdout",
     "output_type": "stream",
     "text": [
      "Score on the training set:  0.09591772471884955\n"
     ]
    }
   ],
   "source": [
    "# Make predictions\n",
    "y_pred_values = model.predict(X_test)\n",
    "\n",
    "# Clip the predictions to be positives\n",
    "y_pred_values = np.where(y_pred_values < 0, 0, y_pred_values)\n",
    "\n",
    "# Disaply the scores\n",
    "print(\"Score on the training set: \", metrics.mean_squared_log_error(y_train,\n",
    "                                                                    model.predict(X_train)))\n",
    "\n",
    "# Save predictions\n",
    "Y_pred_df = X_test_df.ID.to_frame()\n",
    "Y_pred_df[\"value\"] = y_pred_values\n",
    "Y_pred_df.to_csv(\"./Results/Predictions_NN.csv\", index=False)"
   ]
  },
  {
   "cell_type": "markdown",
   "metadata": {
    "heading_collapsed": true
   },
   "source": [
    "# 6 - LightGbm"
   ]
  },
  {
   "cell_type": "markdown",
   "metadata": {
    "hidden": true
   },
   "source": [
    "## 6.1 - Cross-Validation of the model"
   ]
  },
  {
   "cell_type": "code",
   "execution_count": null,
   "metadata": {
    "ExecuteTime": {
     "end_time": "2019-03-20T21:53:10.051603Z",
     "start_time": "2019-03-20T21:53:10.036419Z"
    },
    "hidden": true
   },
   "outputs": [],
   "source": [
    "stats_id = np.unique(X_train_df[\"station_id\"].values)\n",
    "stats_groups = np.random.permutation(stats_id).reshape((5, -1))\n",
    "\n",
    "l_train, l_val = [], []\n",
    "\n",
    "for i in range(5):\n",
    "    \n",
    "    l_val.append(stats_groups[i])\n",
    "    l_train.append(np.setdiff1d(stats_id, stats_groups[i]))"
   ]
  },
  {
   "cell_type": "code",
   "execution_count": null,
   "metadata": {
    "ExecuteTime": {
     "end_time": "2019-03-20T21:57:44.051862Z",
     "start_time": "2019-03-20T21:54:22.076649Z"
    },
    "hidden": true,
    "scrolled": true
   },
   "outputs": [],
   "source": [
    "# Parameters of the model\n",
    "params = {\n",
    "        'boosting_type': 'gbdt',\n",
    "        'objective': 'regression',\n",
    "        'metric': 'root_mean_squared_error',\n",
    "        'max_depth': 5, \n",
    "        'num_leaves': 25,\n",
    "        'learning_rate': 0.01,\n",
    "        'feature_fraction': 0.9,\n",
    "        'bagging_fraction': 0.8,\n",
    "        'bagging_freq': 5\n",
    "    }\n",
    "\n",
    "# Cross-Validation\n",
    "l_train_acc, l_val_acc = [], []\n",
    "\n",
    "for i in range(5):\n",
    "    \n",
    "    X_train_split_df = X_train_df[X_train_df.station_id.isin(l_train[i])].reset_index(drop=True)\n",
    "    X_val_df = X_train_df[X_train_df.station_id.isin(l_val[i])].reset_index(drop=True)\n",
    "    \n",
    "    X_train_split = X_train_split_df.values\n",
    "    y_train_split = Y_train_df[X_train_df.station_id.isin(l_train[i])].reset_index(drop=True)[\"value\"].values\n",
    "\n",
    "    X_val = X_val_df.values\n",
    "    y_val = Y_train_df[X_train_df.station_id.isin(l_val[i])].reset_index(drop=True)[\"value\"].values\n",
    "    \n",
    "    lgb_train = lgb.Dataset(X_train_split, y_train_split)\n",
    "    lgb_eval = lgb.Dataset(X_val, y_val, reference=lgb_train)\n",
    "    \n",
    "    gbm = lgb.train(params,\n",
    "                    lgb_train,\n",
    "                    valid_sets = [lgb_eval],\n",
    "                    num_boost_round = 10000,\n",
    "                    early_stopping_rounds = 200)\n",
    "    \n",
    "    train_preds = gbm.predict(X_train_split)\n",
    "    l_train_acc.append(metrics.mean_squared_log_error(y_train_split, train_preds))\n",
    "    \n",
    "    val_preds = gbm.predict(X_val)\n",
    "    l_val_acc.append(metrics.mean_squared_log_error(y_val, val_preds))"
   ]
  },
  {
   "cell_type": "code",
   "execution_count": null,
   "metadata": {
    "ExecuteTime": {
     "end_time": "2019-03-20T21:57:46.327571Z",
     "start_time": "2019-03-20T21:57:46.324276Z"
    },
    "hidden": true
   },
   "outputs": [],
   "source": [
    "# Display the scores obtained\n",
    "print(\"Train acc: \", l_train_acc)\n",
    "print(\"Val acc: \", l_val_acc)"
   ]
  },
  {
   "cell_type": "markdown",
   "metadata": {
    "hidden": true
   },
   "source": [
    "## 6.2 - Make Predictions"
   ]
  },
  {
   "cell_type": "code",
   "execution_count": null,
   "metadata": {
    "ExecuteTime": {
     "end_time": "2019-04-03T08:03:00.331688Z",
     "start_time": "2019-04-03T08:02:30.884002Z"
    },
    "hidden": true
   },
   "outputs": [],
   "source": [
    "# Final parameters\n",
    "model_params = {\n",
    "        'boosting_type': 'gbdt',\n",
    "        'objective': 'regression',\n",
    "        'max_depth': 5, \n",
    "        'num_leaves': 25,\n",
    "        'learning_rate': 0.01,\n",
    "        'feature_fraction': 0.9,\n",
    "        'bagging_fraction': 0.8,\n",
    "        'bagging_freq': 5\n",
    "    }\n",
    "\n",
    "# Fitting of the model\n",
    "lgb_train = lgb.Dataset(X_train, y_train)\n",
    "gbm = lgb.train(model_params,\n",
    "                lgb_train,\n",
    "                num_boost_round = 500)\n",
    "\n",
    "# Computation of the predictions\n",
    "y_pred_values = gbm.predict(X_test)\n",
    "\n",
    "# Clip the predictions to be positives\n",
    "y_pred_values = np.where(y_pred_values < 0, 0, y_pred_values)\n",
    "\n",
    "# Disaply the scores\n",
    "print(\"Score on the training set: \", metrics.mean_squared_log_error(y_train,\n",
    "                                                                    gbm.predict(X_train)))\n",
    "\n",
    "# Save predictions\n",
    "Y_pred_df = X_test_df.ID.to_frame()\n",
    "Y_pred_df[\"value\"] = y_pred_values\n",
    "Y_pred_df.to_csv(\"./Results/Predictions_LightGBM.csv\", index=False)"
   ]
  },
  {
   "cell_type": "code",
   "execution_count": null,
   "metadata": {
    "hidden": true
   },
   "outputs": [],
   "source": []
  }
 ],
 "metadata": {
  "kernelspec": {
   "display_name": "Python 3",
   "language": "python",
   "name": "python3"
  },
  "language_info": {
   "codemirror_mode": {
    "name": "ipython",
    "version": 3
   },
   "file_extension": ".py",
   "mimetype": "text/x-python",
   "name": "python",
   "nbconvert_exporter": "python",
   "pygments_lexer": "ipython3",
   "version": "3.6.3"
  },
  "latex_envs": {
   "LaTeX_envs_menu_present": true,
   "autoclose": false,
   "autocomplete": true,
   "bibliofile": "biblio.bib",
   "cite_by": "apalike",
   "current_citInitial": 1,
   "eqLabelWithNumbers": true,
   "eqNumInitial": 1,
   "hotkeys": {
    "equation": "Ctrl-E",
    "itemize": "Ctrl-I"
   },
   "labels_anchors": false,
   "latex_user_defs": false,
   "report_style_numbering": false,
   "user_envs_cfg": false
  },
  "varInspector": {
   "cols": {
    "lenName": 16,
    "lenType": 16,
    "lenVar": 40
   },
   "kernels_config": {
    "python": {
     "delete_cmd_postfix": "",
     "delete_cmd_prefix": "del ",
     "library": "var_list.py",
     "varRefreshCmd": "print(var_dic_list())"
    },
    "r": {
     "delete_cmd_postfix": ") ",
     "delete_cmd_prefix": "rm(",
     "library": "var_list.r",
     "varRefreshCmd": "cat(var_dic_list()) "
    }
   },
   "types_to_exclude": [
    "module",
    "function",
    "builtin_function_or_method",
    "instance",
    "_Feature"
   ],
   "window_display": false
  }
 },
 "nbformat": 4,
 "nbformat_minor": 2
}
